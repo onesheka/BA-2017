{
 "cells": [
  {
   "cell_type": "markdown",
   "metadata": {},
   "source": [
    "### Statistical Functions\n",
    "numpy.amin() <br>\n",
    "numpy.amax()"
   ]
  },
  {
   "cell_type": "code",
   "execution_count": 7,
   "metadata": {},
   "outputs": [
    {
     "name": "stdout",
     "output_type": "stream",
     "text": [
      "1\n"
     ]
    }
   ],
   "source": [
    "import numpy as np\n",
    "x = np.array([[1,2,3],[4,5,6],[7,8,9]])\n",
    "print(np.amin(x))\n",
    "## can also specify axis"
   ]
  },
  {
   "cell_type": "markdown",
   "metadata": {},
   "source": [
    "### numpy.ptp() -  returns maximum-minimum"
   ]
  },
  {
   "cell_type": "code",
   "execution_count": 15,
   "metadata": {},
   "outputs": [
    {
     "name": "stdout",
     "output_type": "stream",
     "text": [
      "[6 6 6]\n",
      "8\n"
     ]
    }
   ],
   "source": [
    "print(np.ptp(x, axis = 0))  ## for columns\n",
    "print(np.ptp(x))  "
   ]
  },
  {
   "cell_type": "code",
   "execution_count": 14,
   "metadata": {},
   "outputs": [
    {
     "name": "stdout",
     "output_type": "stream",
     "text": [
      "5.0\n"
     ]
    }
   ],
   "source": [
    "### numpy.percentile(a,q,axis) -- the value below which a given percent of observations are there\n",
    "print(np.percentile(x,50))"
   ]
  },
  {
   "cell_type": "markdown",
   "metadata": {},
   "source": [
    "### median - np.median(x)"
   ]
  },
  {
   "cell_type": "code",
   "execution_count": 17,
   "metadata": {},
   "outputs": [],
   "source": [
    "## different types of mean\n",
    "## can also apply along axis"
   ]
  },
  {
   "cell_type": "code",
   "execution_count": 20,
   "metadata": {},
   "outputs": [],
   "source": [
    "## numpy.average(x)\n",
    "## Difference in mean and average\n",
    "## weighted average - average functions"
   ]
  },
  {
   "cell_type": "code",
   "execution_count": 25,
   "metadata": {},
   "outputs": [
    {
     "name": "stdout",
     "output_type": "stream",
     "text": [
      "6.333333333333333\n"
     ]
    }
   ],
   "source": [
    "wts = np.array([[1,2,3],[4,5,6],[7,8,9]])\n",
    "print(np.average(x, weights=wts))"
   ]
  },
  {
   "cell_type": "code",
   "execution_count": 6,
   "metadata": {},
   "outputs": [
    {
     "name": "stdout",
     "output_type": "stream",
     "text": [
      "1.0\n"
     ]
    }
   ],
   "source": [
    "import numpy as np\n",
    "wts = np.array([4,1,1])\n",
    "x = np.array([1,2,0])\n",
    "## standard deviation - meausure of dispersion of data\n",
    "print(np.average(x,weights=wts))"
   ]
  },
  {
   "cell_type": "code",
   "execution_count": 1,
   "metadata": {},
   "outputs": [],
   "source": [
    "## variance\n",
    "## Normalization\n",
    "## bell curve\n",
    "## Z-scores"
   ]
  },
  {
   "cell_type": "markdown",
   "metadata": {},
   "source": [
    "### Shape:\n",
    "1. reshape\n",
    "2. Flat\n",
    "3. flatten\n",
    "4. ravel\n",
    "\n",
    "### traspose:\n",
    "1. transpose\n",
    "2. ndarray\n",
    "3. rollaxis\n",
    "4. swapaxis\n",
    "\n",
    "### changing dimensions:\n",
    "1. broadcast\n",
    "2. broadcast_to\n",
    "3. expand_dims\n",
    "4. squeeze\n",
    "\n",
    "### joining_arrayas:\n",
    "1. concatenate\n",
    "2. stack\n",
    "3. hstack\n",
    "4. vstack\n",
    "\n",
    "### splitting_arrays:\n",
    "1. split\n",
    "2. hsplit\n",
    "3. vsplit\n",
    "\n",
    "### adding/removing elements:\n",
    "1. resize\n",
    "2. append\n",
    "3. insert\n",
    "4. delete\n",
    "5. unique\n",
    "\n",
    "### bitwise operations:\n",
    "1. bitwise_and\n",
    "2. bitwise_or\n",
    "3. invert\n",
    "4. left_shift\n",
    "5. right_shift\n",
    "\n",
    "\n",
    "### String functions:\n",
    "1. add()\n",
    "2. multiply()\n",
    "3. center\n",
    "4. capitalize()\n",
    "5. title()\n",
    "6. lower()\n",
    "7. upper()\n",
    "8. split()\n",
    "9. splilines()\n",
    "20. strip()\n",
    "21. join()\n",
    "22. replace()\n",
    "23. decode()\n",
    "\n"
   ]
  },
  {
   "cell_type": "code",
   "execution_count": 7,
   "metadata": {},
   "outputs": [],
   "source": [
    "## NLTK\n",
    "## bias\n",
    "## quartiles\n",
    "## deciles"
   ]
  },
  {
   "cell_type": "code",
   "execution_count": null,
   "metadata": {},
   "outputs": [],
   "source": []
  }
 ],
 "metadata": {
  "kernelspec": {
   "display_name": "Python 3",
   "language": "python",
   "name": "python3"
  },
  "language_info": {
   "codemirror_mode": {
    "name": "ipython",
    "version": 3
   },
   "file_extension": ".py",
   "mimetype": "text/x-python",
   "name": "python",
   "nbconvert_exporter": "python",
   "pygments_lexer": "ipython3",
   "version": "3.6.5"
  }
 },
 "nbformat": 4,
 "nbformat_minor": 2
}

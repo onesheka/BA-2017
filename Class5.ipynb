{
 "cells": [
  {
   "cell_type": "code",
   "execution_count": 2,
   "metadata": {},
   "outputs": [],
   "source": [
    "import numpy as np"
   ]
  },
  {
   "cell_type": "markdown",
   "metadata": {},
   "source": [
    "### iscomplex() \n",
    "returns only the complex values from the array"
   ]
  },
  {
   "cell_type": "code",
   "execution_count": 6,
   "metadata": {},
   "outputs": [
    {
     "name": "stdout",
     "output_type": "stream",
     "text": [
      "[2. +6.j 3.5+5.j]\n"
     ]
    }
   ],
   "source": [
    "a = np.array([1,2+6j,5,3.5+5j,2])\n",
    "print(a[np.iscomplex(a)]) ##  iscomplex()"
   ]
  },
  {
   "cell_type": "markdown",
   "metadata": {},
   "source": [
    "### NaN values\n",
    "isnan()"
   ]
  },
  {
   "cell_type": "code",
   "execution_count": 8,
   "metadata": {},
   "outputs": [
    {
     "name": "stdout",
     "output_type": "stream",
     "text": [
      "[nan  1.  2. nan  3.  4.  5.]\n",
      "---------------------------\n",
      "[1. 2. 3. 4. 5.]\n"
     ]
    }
   ],
   "source": [
    "a = np.array([np.nan, 1,2, np.nan,3,4,5])\n",
    "print(a)\n",
    "print(\"---------------------------\")\n",
    "print(a[~np.isnan(a)]) ##   negation of isnan()"
   ]
  },
  {
   "cell_type": "markdown",
   "metadata": {},
   "source": [
    "### Iterating, Copying, Searching and Sorting"
   ]
  },
  {
   "cell_type": "markdown",
   "metadata": {},
   "source": [
    "### Transpose of the Array"
   ]
  },
  {
   "cell_type": "code",
   "execution_count": 9,
   "metadata": {},
   "outputs": [
    {
     "name": "stdout",
     "output_type": "stream",
     "text": [
      "[[  0  10  20  30]\n",
      " [ 40  50  60  70]\n",
      " [ 80  90 100 110]]\n",
      "----------------\n",
      "0\n",
      "10\n",
      "20\n",
      "30\n",
      "40\n",
      "50\n",
      "60\n",
      "70\n",
      "80\n",
      "90\n",
      "100\n",
      "110\n",
      "----------------\n",
      "Transpose of the original array: \n",
      " [[  0  40  80]\n",
      " [ 10  50  90]\n",
      " [ 20  60 100]\n",
      " [ 30  70 110]]\n"
     ]
    }
   ],
   "source": [
    "a = np.arange(0,120,10).reshape(3,4) ### chaining\n",
    "print(a)\n",
    "print(\"----------------\")\n",
    "\n",
    "for x in np.nditer(a):  ## iteration\n",
    "    print(x)\n",
    "\n",
    "print(\"----------------\")\n",
    "print(\"Transpose of the original array: \\n\",a.T) ### Transpose - .T\n"
   ]
  },
  {
   "cell_type": "markdown",
   "metadata": {},
   "source": [
    "### Diff in C and Fortran Styles\n",
    "C - C\n",
    "F - Fortran"
   ]
  },
  {
   "cell_type": "code",
   "execution_count": 10,
   "metadata": {},
   "outputs": [
    {
     "name": "stdout",
     "output_type": "stream",
     "text": [
      "[[  0  10  20  30]\n",
      " [ 40  50  60  70]\n",
      " [ 80  90 100 110]]\n",
      "----------------\n",
      "0\n",
      "10\n",
      "20\n",
      "30\n",
      "40\n",
      "50\n",
      "60\n",
      "70\n",
      "80\n",
      "90\n",
      "100\n",
      "110\n",
      "----------------\n",
      "0\n",
      "40\n",
      "80\n",
      "10\n",
      "50\n",
      "90\n",
      "20\n",
      "60\n",
      "100\n",
      "30\n",
      "70\n",
      "110\n"
     ]
    }
   ],
   "source": [
    "print(a)\n",
    "print(\"----------------\")\n",
    "b = a.copy(order = 'C')\n",
    "\n",
    "for x in np.nditer(b):\n",
    "    print(x)\n",
    "print(\"----------------\")\n",
    "\n",
    "\n",
    "c = a.copy(order = 'F')\n",
    "for x in np.nditer(c):\n",
    "    print(x)"
   ]
  },
  {
   "cell_type": "markdown",
   "metadata": {},
   "source": [
    "### flags operator -- > readonly, writeonly, readwrite"
   ]
  },
  {
   "cell_type": "code",
   "execution_count": 11,
   "metadata": {},
   "outputs": [
    {
     "name": "stdout",
     "output_type": "stream",
     "text": [
      "[[  0  20  40  60]\n",
      " [ 80 100 120 140]\n",
      " [160 180 200 220]]\n"
     ]
    }
   ],
   "source": [
    "for x in np.nditer(a, op_flags=['writeonly']):  ## value will not be read, only displayed/written\n",
    "    x[...] = 2*x\n",
    "print(a)"
   ]
  },
  {
   "cell_type": "code",
   "execution_count": 12,
   "metadata": {},
   "outputs": [
    {
     "ename": "ValueError",
     "evalue": "assignment destination is read-only",
     "output_type": "error",
     "traceback": [
      "\u001b[1;31m---------------------------------------------------------------------------\u001b[0m",
      "\u001b[1;31mValueError\u001b[0m                                Traceback (most recent call last)",
      "\u001b[1;32m<ipython-input-12-daaf84acbf75>\u001b[0m in \u001b[0;36m<module>\u001b[1;34m()\u001b[0m\n\u001b[0;32m      1\u001b[0m \u001b[1;32mfor\u001b[0m \u001b[0mx\u001b[0m \u001b[1;32min\u001b[0m \u001b[0mnp\u001b[0m\u001b[1;33m.\u001b[0m\u001b[0mnditer\u001b[0m\u001b[1;33m(\u001b[0m\u001b[0ma\u001b[0m\u001b[1;33m,\u001b[0m \u001b[0mop_flags\u001b[0m\u001b[1;33m=\u001b[0m\u001b[1;33m[\u001b[0m\u001b[1;34m'readonly'\u001b[0m\u001b[1;33m]\u001b[0m\u001b[1;33m)\u001b[0m\u001b[1;33m:\u001b[0m \u001b[1;31m### will give an error as the value can not be written\u001b[0m\u001b[1;33m\u001b[0m\u001b[0m\n\u001b[1;32m----> 2\u001b[1;33m     \u001b[0mx\u001b[0m\u001b[1;33m[\u001b[0m\u001b[1;33m...\u001b[0m\u001b[1;33m]\u001b[0m \u001b[1;33m=\u001b[0m \u001b[1;36m2\u001b[0m\u001b[1;33m*\u001b[0m\u001b[0mx\u001b[0m\u001b[1;33m\u001b[0m\u001b[0m\n\u001b[0m\u001b[0;32m      3\u001b[0m \u001b[0mprint\u001b[0m\u001b[1;33m(\u001b[0m\u001b[0ma\u001b[0m\u001b[1;33m)\u001b[0m\u001b[1;33m\u001b[0m\u001b[0m\n",
      "\u001b[1;31mValueError\u001b[0m: assignment destination is read-only"
     ]
    }
   ],
   "source": [
    "for x in np.nditer(a, op_flags=['readonly']): ### will give an error as the value can not be written\n",
    "    x[...] = 2*x\n",
    "print(a)"
   ]
  },
  {
   "cell_type": "code",
   "execution_count": 13,
   "metadata": {},
   "outputs": [
    {
     "name": "stdout",
     "output_type": "stream",
     "text": [
      "[[  0  40  80 120]\n",
      " [160 200 240 280]\n",
      " [320 360 400 440]]\n"
     ]
    }
   ],
   "source": [
    "for x in np.nditer(a, op_flags=['readwrite']):  ## can both read and write(by default)\n",
    "    x[...] = 2*x\n",
    "print(a)"
   ]
  },
  {
   "cell_type": "markdown",
   "metadata": {},
   "source": [
    "### External Loop"
   ]
  },
  {
   "cell_type": "code",
   "execution_count": 14,
   "metadata": {},
   "outputs": [
    {
     "name": "stdout",
     "output_type": "stream",
     "text": [
      "[  0 160 320]\n",
      "[ 40 200 360]\n",
      "[ 80 240 400]\n",
      "[120 280 440]\n",
      "---------------------\n",
      "[  0  40  80 120 160 200 240 280 320 360 400 440]\n"
     ]
    }
   ],
   "source": [
    "for x in np.nditer(a, flags=['external_loop'],order='F'):  ##external loop - slices only column\n",
    "    print(x)\n",
    "    \n",
    "print(\"---------------------\")\n",
    "\n",
    "for x in np.nditer(a, flags=['external_loop'],order='C'): ## value willbe displayed in a list manner\n",
    "    print(x)"
   ]
  },
  {
   "cell_type": "markdown",
   "metadata": {},
   "source": [
    "### Sorting - np.sort()\n",
    "\n",
    "numpy.sort(a, axis, kind, order)\n",
    "kind - quicksort, mergesort(depriciated), heapsort"
   ]
  },
  {
   "cell_type": "code",
   "execution_count": 16,
   "metadata": {},
   "outputs": [
    {
     "name": "stdout",
     "output_type": "stream",
     "text": [
      "[[1 3 5 7]\n",
      " [2 3 3 3]]\n",
      "----------------\n",
      "[[3 3 3 1]\n",
      " [5 3 7 2]]\n"
     ]
    }
   ],
   "source": [
    "b = np.random.randint(8, size=(2,4)) ### random array,         ### random sampling\n",
    "b\n",
    "print(np.sort(b, axis=1))  ## 1 - Rows, 0 - Columns, by default 1(Row)\n",
    "\n",
    "print(\"----------------\")\n",
    "\n",
    "print(np.sort(b, axis=0))\n",
    "\n",
    "#### sorting by name"
   ]
  },
  {
   "cell_type": "markdown",
   "metadata": {},
   "source": [
    "### indirect sort functions"
   ]
  },
  {
   "cell_type": "code",
   "execution_count": 26,
   "metadata": {},
   "outputs": [],
   "source": [
    "### OCR - Object Character Recognition"
   ]
  },
  {
   "cell_type": "code",
   "execution_count": 19,
   "metadata": {},
   "outputs": [
    {
     "name": "stdout",
     "output_type": "stream",
     "text": [
      "[1 2 0 3]\n",
      "['chavi, f.y.', 'kaju, f.y.', 'pitter, t.y.', 'roverg, s.y.']\n"
     ]
    }
   ],
   "source": [
    "# numpy.argsort()\n",
    "# numpy.lexsort()  ## calculates indicis first\n",
    "\n",
    "fn = ('pitter','chavi','kaju','roverg' )\n",
    "cl = ('t.y.','f.y.','f.y.','s.y.') ## third year, second year, third year\n",
    "ind = np.lexsort((cl,fn)) ## will be sorted by names - last one entered\n",
    "\n",
    "print(ind)\n",
    "print([fn[i] +\", \" + cl[i] for i in ind])  ## sorted by names"
   ]
  },
  {
   "cell_type": "code",
   "execution_count": 42,
   "metadata": {},
   "outputs": [
    {
     "name": "stdout",
     "output_type": "stream",
     "text": [
      "[[  0  40  80 120]\n",
      " [160 200 240 280]\n",
      " [320 360 400 440]]\n",
      "[2 2 2 2]\n"
     ]
    }
   ],
   "source": [
    "## numpy.argmax()  ## they return the indicis for max and min\n",
    "## numpy.argmin()\n",
    "b = []\n",
    "indexMax = np.argmax(a, axis = 0)\n",
    "indexMin = np.argmin(a, axis=1) \n",
    "\n",
    "print(a)\n",
    "print(indexMax)"
   ]
  },
  {
   "cell_type": "markdown",
   "metadata": {},
   "source": [
    "##### np.nonzero(a)  ---> To check non-zero elements"
   ]
  },
  {
   "cell_type": "markdown",
   "metadata": {},
   "source": [
    "#### Searching specifically for an element"
   ]
  },
  {
   "cell_type": "code",
   "execution_count": 21,
   "metadata": {},
   "outputs": [
    {
     "name": "stdout",
     "output_type": "stream",
     "text": [
      "(array([11], dtype=int64),)\n"
     ]
    }
   ],
   "source": [
    "result = np.where(x==440)\n",
    "print(result)"
   ]
  },
  {
   "cell_type": "markdown",
   "metadata": {},
   "source": [
    "##### Extracting elelemts given a certain condition"
   ]
  },
  {
   "cell_type": "code",
   "execution_count": 22,
   "metadata": {},
   "outputs": [
    {
     "name": "stdout",
     "output_type": "stream",
     "text": [
      "[[ 0  1  2  3]\n",
      " [ 4  5  6  7]\n",
      " [ 8  9 10 11]]\n",
      "-------------------------\n",
      "[[ True False  True False]\n",
      " [ True False  True False]\n",
      " [ True False  True False]]\n",
      "-------------------------\n",
      "[ 0  2  4  6  8 10]\n"
     ]
    }
   ],
   "source": [
    "a = np.arange(12).reshape(3,4)\n",
    "print(a)\n",
    "print(\"-------------------------\")\n",
    "conditn = np.mod(a,2) == 0 ## condition specified\n",
    "print(conditn)\n",
    "print(\"-------------------------\")\n",
    "print(np.extract(conditn,a))"
   ]
  },
  {
   "cell_type": "code",
   "execution_count": null,
   "metadata": {},
   "outputs": [],
   "source": []
  }
 ],
 "metadata": {
  "kernelspec": {
   "display_name": "Python 3",
   "language": "python",
   "name": "python3"
  },
  "language_info": {
   "codemirror_mode": {
    "name": "ipython",
    "version": 3
   },
   "file_extension": ".py",
   "mimetype": "text/x-python",
   "name": "python",
   "nbconvert_exporter": "python",
   "pygments_lexer": "ipython3",
   "version": "3.6.5"
  }
 },
 "nbformat": 4,
 "nbformat_minor": 2
}

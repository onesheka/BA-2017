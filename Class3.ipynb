{
 "cells": [
  {
   "cell_type": "markdown",
   "metadata": {},
   "source": [
    "### 3 types of indexing methods \n",
    "remember all types of indexing"
   ]
  },
  {
   "cell_type": "markdown",
   "metadata": {},
   "source": [
    "field access, basic access, advanced access"
   ]
  },
  {
   "cell_type": "code",
   "execution_count": 6,
   "metadata": {},
   "outputs": [
    {
     "name": "stdout",
     "output_type": "stream",
     "text": [
      "[2 3 4]\n",
      "-----------\n",
      "[2 3 4 5 6 7 8 9]\n",
      "-----------\n",
      "5\n",
      "-----------\n",
      "[2 4 6] [2 4 6]\n"
     ]
    }
   ],
   "source": [
    "## slice object\n",
    "import numpy as np\n",
    "a = np.arange(10)\n",
    "s = slice(2,7,2) ## start, stop, step\n",
    "b = a[2:7:2]\n",
    "c = a[5]\n",
    "print(a[2:5])\n",
    "print(\"-----------\")\n",
    "print(a[2:])\n",
    "print(\"-----------\")\n",
    "print(c)\n",
    "print(\"-----------\")\n",
    "print(a[s], b)"
   ]
  },
  {
   "cell_type": "code",
   "execution_count": 12,
   "metadata": {},
   "outputs": [
    {
     "name": "stdout",
     "output_type": "stream",
     "text": [
      "[[1 2 3]\n",
      " [4 5 6]\n",
      " [7 8 9]]\n",
      "------------\n",
      "[[4 5 6]\n",
      " [7 8 9]]\n",
      "------------\n",
      "[[1 2 3]]\n",
      "------------\n",
      "1\n",
      "------------\n",
      "9\n",
      "------------\n",
      "[[1 2 3]\n",
      " [4 5 6]\n",
      " [7 8 9]]\n"
     ]
    }
   ],
   "source": [
    "a = np.array([[1,2,3],[4,5,6],[7,8,9]])\n",
    "print(a)\n",
    "print(\"------------\")\n",
    "print(a[1:]) \n",
    "print(\"------------\")\n",
    "print(a[:1])        ## 0th row\n",
    "print(\"------------\")\n",
    "print(a[0,0])\n",
    "print(\"------------\")\n",
    "print(a[2,2])\n",
    "print(\"------------\")\n",
    "print(a[0:,0:]) "
   ]
  },
  {
   "cell_type": "markdown",
   "metadata": {},
   "source": [
    "### Ellipsis \n",
    "3 dots ... --> Provides a tuple, when used at a row position, it will return the entire row"
   ]
  },
  {
   "cell_type": "code",
   "execution_count": 34,
   "metadata": {},
   "outputs": [
    {
     "name": "stdout",
     "output_type": "stream",
     "text": [
      "[[1 2 3]\n",
      " [3 4 5]\n",
      " [5 6 7]]\n",
      "------------\n",
      "[2 4 6]\n",
      "--------------\n",
      "[3 4 5]\n",
      "--------------\n",
      "[[2 3]\n",
      " [4 5]\n",
      " [6 7]]\n"
     ]
    }
   ],
   "source": [
    "a = np.array([[1,2,3],[3,4,5],[5,6,7]])\n",
    "print(a)\n",
    "print(\"------------\")\n",
    "print(a[...,1]) ### No row specified, column 2 understood by default\n",
    "print(\"--------------\")\n",
    "print(a[1,...])\n",
    "print(\"--------------\")\n",
    "print(a[...,1:])"
   ]
  },
  {
   "cell_type": "markdown",
   "metadata": {},
   "source": [
    "### Integer Indexing"
   ]
  },
  {
   "cell_type": "code",
   "execution_count": 38,
   "metadata": {},
   "outputs": [
    {
     "name": "stdout",
     "output_type": "stream",
     "text": [
      "[[1 2]\n",
      " [3 4]\n",
      " [5 6]]\n",
      "-----------\n",
      "[1 4 5]\n",
      "-----------\n",
      "[6 2 4]\n",
      "-----------\n"
     ]
    }
   ],
   "source": [
    "x = np.array([[1,2], [3,4], [5,6]])\n",
    "y = x[[0,1,2], [0,1,0]] ## r0c0, r1c1, r2c0\n",
    "z = x[[2,0,1],[1,1,1]]\n",
    "print(x)\n",
    "print(\"-----------\")\n",
    "print(y)\n",
    "print(\"-----------\")\n",
    "print(z)\n",
    "print(\"-----------\")\n",
    "## works like a matrix\n"
   ]
  },
  {
   "cell_type": "markdown",
   "metadata": {},
   "source": [
    "### Field Indexing"
   ]
  },
  {
   "cell_type": "code",
   "execution_count": 46,
   "metadata": {},
   "outputs": [
    {
     "name": "stdout",
     "output_type": "stream",
     "text": [
      "('Re', 9, 81.)\n",
      "-----------\n",
      "['Re' 'Fi']\n",
      "-----------\n",
      "[9 3]\n",
      "-----------\n",
      "[9 3]\n",
      "-----------\n",
      "[ True False]\n"
     ]
    }
   ],
   "source": [
    "## explicitely declare dtypes\n",
    "x = np.array([('Rex',9,81.0), ('Fido',3,27.0)], \n",
    "             dtype=[('name','U2'),('age','i4'),('weight','f4')]) ### explicitly specify the length of the word \"Rex\"\n",
    "a = x[0] #create a slice and assign it to a new variable\n",
    "print(a)\n",
    "print(\"-----------\")\n",
    "print(x['name'])\n",
    "print(\"-----------\")\n",
    "print(x['age'])\n",
    "print(\"-----------\")\n",
    "y = x['age']\n",
    "print(y)\n",
    "print(\"-----------\")\n",
    "print(y>5) ## returns boolean, returns true or false\n"
   ]
  },
  {
   "cell_type": "markdown",
   "metadata": {},
   "source": [
    "### Integer Indexing, example 2"
   ]
  },
  {
   "cell_type": "code",
   "execution_count": 54,
   "metadata": {},
   "outputs": [
    {
     "name": "stdout",
     "output_type": "stream",
     "text": [
      "[[ 0  1  2]\n",
      " [ 3  4  5]\n",
      " [ 6  7  8]\n",
      " [ 9 10 11]]\n",
      "-----------\n",
      "0\n",
      "-----------\n",
      "[0 2]\n",
      "-----------\n",
      "[0 2]\n",
      "-----------\n"
     ]
    }
   ],
   "source": [
    "x = np.array([[0,1,2],[3,4,5],[6,7,8],[9,10,11]])\n",
    "print(x)\n",
    "print(\"-----------\")\n",
    "print(x[0,0])\n",
    "print(\"-----------\")\n",
    "p = x[[0,0],[0,2]]\n",
    "r = x[[0,0], [0,2]]  ## why out of bounds\n",
    "print(p)\n",
    "print(\"-----------\")\n",
    "print(r)\n",
    "print(\"-----------\")\n"
   ]
  },
  {
   "cell_type": "code",
   "execution_count": null,
   "metadata": {},
   "outputs": [],
   "source": []
  }
 ],
 "metadata": {
  "kernelspec": {
   "display_name": "Python 3",
   "language": "python",
   "name": "python3"
  },
  "language_info": {
   "codemirror_mode": {
    "name": "ipython",
    "version": 3
   },
   "file_extension": ".py",
   "mimetype": "text/x-python",
   "name": "python",
   "nbconvert_exporter": "python",
   "pygments_lexer": "ipython3",
   "version": "3.6.5"
  }
 },
 "nbformat": 4,
 "nbformat_minor": 2
}

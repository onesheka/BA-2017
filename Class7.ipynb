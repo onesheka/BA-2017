{
 "cells": [
  {
   "cell_type": "markdown",
   "metadata": {},
   "source": [
    "### Array operations"
   ]
  },
  {
   "cell_type": "code",
   "execution_count": 2,
   "metadata": {},
   "outputs": [
    {
     "name": "stdout",
     "output_type": "stream",
     "text": [
      "[[10. 12. 14.]\n",
      " [16. 18. 20.]\n",
      " [22. 24. 26.]]\n",
      "---------\n",
      "[[-10. -10. -10.]\n",
      " [-10. -10. -10.]\n",
      " [-10. -10. -10.]]\n",
      "---------\n",
      "[[  0.  11.  24.]\n",
      " [ 39.  56.  75.]\n",
      " [ 96. 119. 144.]]\n",
      "---------\n",
      "[[0.         0.09090909 0.16666667]\n",
      " [0.23076923 0.28571429 0.33333333]\n",
      " [0.375      0.41176471 0.44444444]]\n",
      "---------\n"
     ]
    }
   ],
   "source": [
    "import numpy as np\n",
    "a = np.arange(9, dtype = np.float_).reshape(3,3)\n",
    "b = np.arange(10,19,dtype = np.float_).reshape(3,3)\n",
    "c = a + b\n",
    "d = a - b\n",
    "e = a*b\n",
    "f = a/b\n",
    "print(c)\n",
    "print(\"---------\")\n",
    "print(d)\n",
    "print(\"---------\")\n",
    "print(e)\n",
    "print(\"---------\")\n",
    "print(f)\n",
    "print(\"---------\")"
   ]
  },
  {
   "cell_type": "markdown",
   "metadata": {},
   "source": [
    "## np.reciprocal(a)"
   ]
  },
  {
   "cell_type": "code",
   "execution_count": 4,
   "metadata": {},
   "outputs": [
    {
     "name": "stdout",
     "output_type": "stream",
     "text": [
      "[[0.1        0.09090909 0.08333333]\n",
      " [0.07692308 0.07142857 0.06666667]\n",
      " [0.0625     0.05882353 0.05555556]]\n"
     ]
    }
   ],
   "source": [
    "a = np.reciprocal(b)\n",
    "print(a)"
   ]
  },
  {
   "cell_type": "markdown",
   "metadata": {},
   "source": [
    "## np.power(a,b)"
   ]
  },
  {
   "cell_type": "code",
   "execution_count": 7,
   "metadata": {},
   "outputs": [
    {
     "name": "stdout",
     "output_type": "stream",
     "text": [
      "[[1.         0.09090909 0.00694444]\n",
      " [1.         0.07142857 0.00444444]\n",
      " [1.         0.05882353 0.00308642]]\n",
      "------\n",
      "[[       nan 0.09090909 0.08333333]\n",
      " [       nan 0.07142857 0.06666667]\n",
      " [       nan 0.05882353 0.05555556]]\n",
      "------\n",
      "[[       nan 0.09090909 0.08333333]\n",
      " [       nan 0.07142857 0.06666667]\n",
      " [       nan 0.05882353 0.05555556]]\n"
     ]
    },
    {
     "name": "stderr",
     "output_type": "stream",
     "text": [
      "C:\\Users\\HP\\Anaconda3\\lib\\site-packages\\ipykernel_launcher.py:4: RuntimeWarning: invalid value encountered in remainder\n",
      "  after removing the cwd from sys.path.\n",
      "C:\\Users\\HP\\Anaconda3\\lib\\site-packages\\ipykernel_launcher.py:6: RuntimeWarning: invalid value encountered in remainder\n",
      "  \n"
     ]
    }
   ],
   "source": [
    "pow = np.array([0,1,2,0,1,2,0,1,2]).reshape(3,3)\n",
    "print(np.power(a,pow))\n",
    "print(\"------\")\n",
    "print(np.remainder(a,pow))\n",
    "print(\"------\")\n",
    "print(np.mod(a,pow))"
   ]
  },
  {
   "cell_type": "markdown",
   "metadata": {},
   "source": [
    "### Trignometric and complex functions\n",
    "1. np.sin(a*np.pi/180) #includes conersion to radians\n",
    "2. np.cos(a*np.pi/180)\n",
    "3. np.tan(a*np.pi/180)\n",
    "4. inv = np.arcsin(sin) inverse(arcsin) of sin\n",
    "5. np.degrees(inv) converts inverse in radians to degrees\n",
    "6. ROUND, CEIL, FLOOR\n",
    "7. numpy.around(a,decimals) rounds to the desired precisiom\n"
   ]
  },
  {
   "cell_type": "code",
   "execution_count": 10,
   "metadata": {},
   "outputs": [
    {
     "name": "stdout",
     "output_type": "stream",
     "text": [
      "[-2.  1. -1.  0. 10.]\n",
      "[-1.  2. -0.  1. 10.]\n"
     ]
    }
   ],
   "source": [
    "a = np.array([-1.7, 1.5, -0.2, 0.6, 10])\n",
    "print(np.floor(a))\n",
    "print(np.ceil(a))"
   ]
  },
  {
   "cell_type": "markdown",
   "metadata": {},
   "source": [
    "## Copy, View and Deep Copy"
   ]
  },
  {
   "cell_type": "code",
   "execution_count": 11,
   "metadata": {},
   "outputs": [],
   "source": [
    "## Note: everything in Python is an object, even numbers and Classes\n",
    "# Python uses 3 concepts: copy, view and deep copy for operations\n",
    "# A simple assignment does not make the copy of an array object\n",
    "# Instead, it uses the same id() of the original array to access it\n",
    "# Compound objects are those that contain other objects, like lists or class instances"
   ]
  },
  {
   "cell_type": "code",
   "execution_count": 19,
   "metadata": {},
   "outputs": [
    {
     "name": "stdout",
     "output_type": "stream",
     "text": [
      "1394764992\n",
      "[0 1 2 3]\n",
      "2109108806240\n",
      "[0 1 2 3]\n",
      "2109108806240\n",
      "[[0 1]\n",
      " [2 3]]\n",
      "[[0 1]\n",
      " [2 3]]\n",
      "True\n"
     ]
    }
   ],
   "source": [
    "a = np.arange(4)\n",
    "print(id(5))\n",
    "print(a)\n",
    "print(id(a))\n",
    "b = a\n",
    "print(b)\n",
    "x = id(a)\n",
    "y = id(b)\n",
    "print(y)\n",
    "b.shape = 2,2\n",
    "print(b)  ## The shape of b is changed\n",
    "print(a)  ## Shape of a also gets changed to b\n",
    "print(b is a) ## Thus a and b are pointing to the same memory location, \n",
    "## This b is NOT a copy of a"
   ]
  },
  {
   "cell_type": "code",
   "execution_count": null,
   "metadata": {},
   "outputs": [],
   "source": []
  }
 ],
 "metadata": {
  "kernelspec": {
   "display_name": "Python 3",
   "language": "python",
   "name": "python3"
  },
  "language_info": {
   "codemirror_mode": {
    "name": "ipython",
    "version": 3
   },
   "file_extension": ".py",
   "mimetype": "text/x-python",
   "name": "python",
   "nbconvert_exporter": "python",
   "pygments_lexer": "ipython3",
   "version": "3.6.5"
  }
 },
 "nbformat": 4,
 "nbformat_minor": 2
}

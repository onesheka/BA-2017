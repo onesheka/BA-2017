{
 "cells": [
  {
   "cell_type": "markdown",
   "metadata": {},
   "source": [
    "### Complex numbers using Matrix\n",
    "using zip to remove the complex numbers in a for loop in a mtrix"
   ]
  },
  {
   "cell_type": "code",
   "execution_count": 88,
   "metadata": {},
   "outputs": [
    {
     "data": {
      "text/plain": [
       "[(1+6j), (2+2j), (3+3j)]"
      ]
     },
     "execution_count": 88,
     "metadata": {},
     "output_type": "execute_result"
    }
   ],
   "source": [
    "[complex(a,b) for a,b in zip([1,2,3],[6,2,3])] ##zip use ---> to combine 2 values and the result is in the form of a tuple"
   ]
  },
  {
   "cell_type": "code",
   "execution_count": 89,
   "metadata": {},
   "outputs": [
    {
     "name": "stdout",
     "output_type": "stream",
     "text": [
      "[(1, 6), (2, 2), (3, 3)]\n"
     ]
    }
   ],
   "source": [
    "numbers = [1, 2, 3]\n",
    "letters = ['a', 'b', 'c']\n",
    "zipped = list(zip(numbers, letters))\n",
    "zipped\n",
    "\n",
    "a = [1,2,3]\n",
    "b = [6,2,3]\n",
    "zipped = list(zip(a,b))\n",
    "print(zipped)  ##to zip 2 matrices"
   ]
  },
  {
   "cell_type": "markdown",
   "metadata": {},
   "source": [
    "### Shaping an array explicitely\n"
   ]
  },
  {
   "cell_type": "code",
   "execution_count": 92,
   "metadata": {},
   "outputs": [
    {
     "name": "stdout",
     "output_type": "stream",
     "text": [
      "[[1 2 3]\n",
      " [4 5 6]]\n",
      "\n",
      "(3, 2)\n",
      "[[1 2]\n",
      " [3 4]\n",
      " [5 6]]\n"
     ]
    }
   ],
   "source": [
    "## u can also shape an array explicitely\n",
    "import numpy as np\n",
    "matrix1 = np.array([[1,2,3],[4,5,6]])\n",
    "print(matrix1) ### before shaping explicitely, shape=2,3\n",
    "print() \n",
    "matrix1.shape = (3,2)\n",
    "print(matrix1.shape)\n",
    "print(matrix1) ### after shaping explicitely, shape=3,2"
   ]
  },
  {
   "cell_type": "markdown",
   "metadata": {},
   "source": [
    "### Difference between shape and reshape\n",
    "Shape to give shape to already existing array and to the same array/matrix <br>\n",
    "Reshape is to shape the array and assign it to a new matrix "
   ]
  },
  {
   "cell_type": "markdown",
   "metadata": {},
   "source": [
    "### Ndim method"
   ]
  },
  {
   "cell_type": "code",
   "execution_count": 102,
   "metadata": {},
   "outputs": [
    {
     "name": "stdout",
     "output_type": "stream",
     "text": [
      "2\n",
      "(1, 3, 3)\n",
      "3\n"
     ]
    }
   ],
   "source": [
    "matrix1 = np.array([[1,2,3],[4,5,6],[5,6,7]])\n",
    "matrix2 = np.array([[[1,2,3],[7,8,9],[7,8,9]]])\n",
    "\n",
    "\n",
    "print(matrix1.ndim)  ## returns dimesnions\n",
    "print(matrix2.shape)\n",
    "print(matrix2.ndim)"
   ]
  },
  {
   "cell_type": "code",
   "execution_count": 105,
   "metadata": {},
   "outputs": [
    {
     "name": "stdout",
     "output_type": "stream",
     "text": [
      "[[[[1 2 3 4 5 6]\n",
      "   [1 2 4 5 6 3]]]]\n",
      "4\n",
      "(1, 1, 2, 6)\n"
     ]
    }
   ],
   "source": [
    "a = np.array([[1,2,3,4,5,6],[1,2,4,5,6,3]], ndmin=4)\n",
    "print(a)\n",
    "print(a.ndim)\n",
    "print(a.shape)"
   ]
  },
  {
   "cell_type": "markdown",
   "metadata": {},
   "source": [
    "### arange function\n",
    "Creates a vector starting from zero till value mentioned - 1"
   ]
  },
  {
   "cell_type": "code",
   "execution_count": 106,
   "metadata": {},
   "outputs": [
    {
     "name": "stdout",
     "output_type": "stream",
     "text": [
      "[ 0  1  2  3  4  5  6  7  8  9 10 11 12 13 14 15 16 17 18 19 20 21 22 23]\n"
     ]
    }
   ],
   "source": [
    "a = np.arange(24) ##[0,24)\n",
    "print(a) ##1darray"
   ]
  },
  {
   "cell_type": "markdown",
   "metadata": {},
   "source": [
    "### exploration -\n",
    "understanding dimesnions, details, dtypes etc etc"
   ]
  },
  {
   "cell_type": "markdown",
   "metadata": {},
   "source": [
    "### reshape function"
   ]
  },
  {
   "cell_type": "code",
   "execution_count": 22,
   "metadata": {},
   "outputs": [
    {
     "name": "stdout",
     "output_type": "stream",
     "text": [
      "[[[ 0  1  2]\n",
      "  [ 3  4  5]\n",
      "  [ 6  7  8]\n",
      "  [ 9 10 11]]\n",
      "\n",
      " [[12 13 14]\n",
      "  [15 16 17]\n",
      "  [18 19 20]\n",
      "  [21 22 23]]]\n"
     ]
    }
   ],
   "source": [
    "b = a.reshape(2,4,3)\n",
    "print(b) ### 3darray"
   ]
  },
  {
   "cell_type": "markdown",
   "metadata": {},
   "source": [
    "### itemsize"
   ]
  },
  {
   "cell_type": "code",
   "execution_count": 109,
   "metadata": {},
   "outputs": [
    {
     "name": "stdout",
     "output_type": "stream",
     "text": [
      "8\n"
     ]
    }
   ],
   "source": [
    "matrix1 = np.array([1,2,3], dtype=float)\n",
    "print(matrix1.itemsize)   ## no of bytes each item in the vector has"
   ]
  },
  {
   "cell_type": "code",
   "execution_count": 110,
   "metadata": {},
   "outputs": [
    {
     "name": "stdout",
     "output_type": "stream",
     "text": [
      "4\n"
     ]
    }
   ],
   "source": [
    "x = np.array([1,2,3,4,5], dtype=np.float32)\n",
    "print(x.itemsize)"
   ]
  },
  {
   "cell_type": "markdown",
   "metadata": {},
   "source": [
    "hw -  do for every single datatypes -16-18. To see how much each item take\n",
    "### Datatypes in np\n",
    "1. bool_\n",
    "2. int_\n",
    "3. intc\n",
    "4. intp\n",
    "5. int8\n",
    "5. int16\n",
    "6. int32\n",
    "7. int64\n",
    "8. uint8\n",
    "9. uint16\n",
    "10. uint32\n",
    "11. uint64\n",
    "12. float_\n",
    "13. float16\n",
    "14. float32\n",
    "15. float64\n",
    "16. complex_\n",
    "17. complex64\n",
    "18. complex128"
   ]
  },
  {
   "cell_type": "code",
   "execution_count": 120,
   "metadata": {},
   "outputs": [
    {
     "name": "stdout",
     "output_type": "stream",
     "text": [
      "Bool:  1\n",
      "Int:  4\n",
      "Intc:  4\n",
      "Intp:  8\n",
      "Int8:  1\n",
      "Int16:  2\n",
      "Int32:  4\n",
      "int64:  8\n",
      "Uint8:  1\n",
      "Uint16:  2\n",
      "Uint32:  4\n",
      "Unit64:  8\n",
      "Float:  8\n",
      "Float16:  2\n",
      "Float32:  4\n",
      "Float64:  8\n",
      "Complex_:  16\n",
      "Complex64:  8\n",
      "Complex128:  16\n"
     ]
    }
   ],
   "source": [
    "matrix1 = np.array([1,2,3,4], dtype=np.bool_)\n",
    "print(\"Bool: \",matrix1.itemsize)\n",
    "\n",
    "matrix1 = np.array([1,2,3,4], dtype=np.int_)\n",
    "print(\"Int: \",matrix1.itemsize)\n",
    "\n",
    "matrix1 = np.array([1,2,3,4], dtype=np.intc)\n",
    "print(\"Intc: \",matrix1.itemsize)\n",
    "\n",
    "matrix1 = np.array([1,2,3,4], dtype=np.intp)\n",
    "print(\"Intp: \",matrix1.itemsize)\n",
    "\n",
    "matrix1 = np.array([1,2,3,4], dtype=np.int8)\n",
    "print(\"Int8: \",matrix1.itemsize)\n",
    "\n",
    "matrix1 = np.array([1,2,3,4], dtype=np.int16)\n",
    "print(\"Int16: \",matrix1.itemsize)\n",
    "\n",
    "matrix1 = np.array([1,2,3,4], dtype=np.int32)\n",
    "print(\"Int32: \",matrix1.itemsize)\n",
    "\n",
    "matrix1 = np.array([1,2,3,4], dtype=np.int64)\n",
    "print(\"int64: \",matrix1.itemsize)\n",
    "\n",
    "matrix1 = np.array([1,2,3,4], dtype=np.uint8)\n",
    "print(\"Uint8: \",matrix1.itemsize)\n",
    "\n",
    "matrix1 = np.array([1,2,3,4], dtype=np.uint16)\n",
    "print(\"Uint16: \",matrix1.itemsize)\n",
    "\n",
    "matrix1 = np.array([1,2,3,4], dtype=np.uint32)\n",
    "print(\"Uint32: \",matrix1.itemsize)\n",
    "\n",
    "matrix1 = np.array([1,2,3,4], dtype=np.uint64)\n",
    "print(\"Unit64: \",matrix1.itemsize)\n",
    "\n",
    "matrix1 = np.array([1,2,3,4], dtype=np.float_)\n",
    "print(\"Float: \",matrix1.itemsize)\n",
    "\n",
    "matrix1 = np.array([1,2,3,4], dtype=np.float16)\n",
    "print(\"Float16: \",matrix1.itemsize)\n",
    "\n",
    "matrix1 = np.array([1,2,3,4], dtype=np.float32)\n",
    "print(\"Float32: \",matrix1.itemsize)\n",
    "\n",
    "matrix1 = np.array([1,2,3,4], dtype=np.float64)\n",
    "print(\"Float64: \",matrix1.itemsize)\n",
    "\n",
    "matrix1 = np.array([1,2,3,4], dtype=np.complex_)\n",
    "print(\"Complex_: \",matrix1.itemsize)\n",
    "\n",
    "matrix1 = np.array([1,2,3,4], dtype=np.complex64)\n",
    "print(\"Complex64: \",matrix1.itemsize)\n",
    "\n",
    "matrix1 = np.array([1,2,3,4], dtype=np.complex128)\n",
    "print(\"Complex128: \",matrix1.itemsize)"
   ]
  },
  {
   "cell_type": "markdown",
   "metadata": {},
   "source": [
    "### Flag Attributes"
   ]
  },
  {
   "cell_type": "code",
   "execution_count": 27,
   "metadata": {},
   "outputs": [
    {
     "name": "stdout",
     "output_type": "stream",
     "text": [
      "  C_CONTIGUOUS : True\n",
      "  F_CONTIGUOUS : True\n",
      "  OWNDATA : True\n",
      "  WRITEABLE : True\n",
      "  ALIGNED : True\n",
      "  WRITEBACKIFCOPY : False\n",
      "  UPDATEIFCOPY : False\n"
     ]
    }
   ],
   "source": [
    "x = np.array([1,2,3,4,5])\n",
    "print(x.flags)   \n",
    "## Are these compatible is with C and Fortran\n",
    "## Owndata - Source related (Kya ye mene khud generate kiya hai)\n",
    "### Writeable - > We can change it or not\n",
    "### Writebackifcopy --> upstream and downstream* programming, agar kisi ne parent/master data change kiya hai, it will come back and hnage this data also\n",
    "#### UpdateifCopy"
   ]
  },
  {
   "cell_type": "markdown",
   "metadata": {},
   "source": [
    "### ASARRAY function"
   ]
  },
  {
   "cell_type": "code",
   "execution_count": 121,
   "metadata": {},
   "outputs": [
    {
     "name": "stdout",
     "output_type": "stream",
     "text": [
      "[1 2 3]\n",
      "<class 'numpy.ndarray'>\n"
     ]
    }
   ],
   "source": [
    "## Convert existing data into numpy array\n",
    "## when to use it...\n",
    "x=[1,2,3]\n",
    "a = np.asarray(x)\n",
    "print(a)\n",
    "print(type(a))\n",
    "##diff between array and asarray function\n",
    "## np.asarray will change the original matrix/array as well"
   ]
  },
  {
   "cell_type": "code",
   "execution_count": 41,
   "metadata": {},
   "outputs": [
    {
     "name": "stdout",
     "output_type": "stream",
     "text": [
      "(1, 2, 3)\n",
      "(4, 5, 6)\n",
      "[1 2 3] [4 5 6]\n"
     ]
    }
   ],
   "source": [
    "## ndarray from tuple\n",
    "a = 1,2,3  ##tuple hw. what and why\n",
    "b = (4,5,6)\n",
    "m1 = np.asarray(a)\n",
    "m2 = np.asarray(b)\n",
    "print(a)\n",
    "print(b)\n",
    "print(m1,m2)\n",
    "\n"
   ]
  },
  {
   "cell_type": "code",
   "execution_count": 49,
   "metadata": {},
   "outputs": [
    {
     "name": "stdout",
     "output_type": "stream",
     "text": [
      "[(1, 2, 3) (4, 5)]\n",
      "<class 'numpy.ndarray'>\n",
      "(2,)\n",
      "(3,)\n",
      "[1 2 3]\n"
     ]
    }
   ],
   "source": [
    "## ndarray from list of tuples\n",
    "x = [(1,2,3),(4,5)]\n",
    "a = np.asarray(x)\n",
    "print(a)\n",
    "print(type(a))\n",
    "print(a.shape)\n",
    "x = np.array([1,2,3])\n",
    "print(x.shape)\n",
    "print(x)"
   ]
  },
  {
   "cell_type": "markdown",
   "metadata": {},
   "source": [
    "# DOUBT"
   ]
  },
  {
   "cell_type": "code",
   "execution_count": 126,
   "metadata": {},
   "outputs": [
    {
     "name": "stdout",
     "output_type": "stream",
     "text": [
      "<class 'bytes'>\n",
      "[b'h' b'e' b'l' b'l' b'o' b' ' b'w' b'o' b'r' b'l' b'd']\n",
      "<class 'numpy.ndarray'>\n"
     ]
    },
    {
     "data": {
      "text/plain": [
       "array([ 0.,  1.,  4.,  9., 16.])"
      ]
     },
     "execution_count": 126,
     "metadata": {},
     "output_type": "execute_result"
    }
   ],
   "source": [
    "\n",
    "\n",
    "##numpy.frombuffer(buffer, dtpe=float, count=-1, offset=0)\n",
    "## used to create a vector from a specified buffer\n",
    "import numpy as np  \n",
    "l = b'hello world'  \n",
    "print(type(l))  \n",
    "a = np.frombuffer(l, dtype = \"S1\")  \n",
    "print(a)  \n",
    "print(type(a))  \n",
    "\n",
    "\n",
    "##numpy.fromiter\n",
    "iterable = (x*x for x in range(5))\n",
    "np.fromiter(iterable, float)\n",
    "np.array([  0.,   1.,   4.,   9.,  16.])\n",
    "\n"
   ]
  },
  {
   "cell_type": "code",
   "execution_count": 55,
   "metadata": {},
   "outputs": [],
   "source": [
    "## numpy.arange(start, stop, step, dtype)"
   ]
  },
  {
   "cell_type": "code",
   "execution_count": 57,
   "metadata": {},
   "outputs": [
    {
     "name": "stdout",
     "output_type": "stream",
     "text": [
      "[ 3.   3.2  3.4  3.6  3.8  4.   4.2  4.4  4.6  4.8  5.   5.2  5.4  5.6\n",
      "  5.8  6.   6.2  6.4  6.6  6.8  7.   7.2  7.4  7.6  7.8  8.   8.2  8.4\n",
      "  8.6  8.8  9.   9.2  9.4  9.6  9.8 10.  10.2 10.4 10.6 10.8 11.  11.2\n",
      " 11.4 11.6 11.8 12.  12.2 12.4 12.6 12.8 13.  13.2 13.4 13.6 13.8 14.\n",
      " 14.2 14.4 14.6 14.8]\n"
     ]
    }
   ],
   "source": [
    "x= np.arange(3,15,.2,float)\n",
    "print(x)"
   ]
  },
  {
   "cell_type": "markdown",
   "metadata": {},
   "source": [
    "### Numpy.linspace"
   ]
  },
  {
   "cell_type": "code",
   "execution_count": 65,
   "metadata": {},
   "outputs": [
    {
     "name": "stdout",
     "output_type": "stream",
     "text": [
      "[10.  12.5 15.  17.5 20. ]\n"
     ]
    }
   ],
   "source": [
    "x = np.linspace(10,20,5) ## number of evenly spaced samples, by default 50\n",
    "print(x) \n",
    "## inclides both the end points"
   ]
  },
  {
   "cell_type": "code",
   "execution_count": 70,
   "metadata": {},
   "outputs": [
    {
     "name": "stdout",
     "output_type": "stream",
     "text": [
      "[10. 14. 18. 22. 26.]\n",
      "<class 'numpy.ndarray'>\n"
     ]
    }
   ],
   "source": [
    "y = np.linspace(10,30,5, endpoint=False)  ## to exclude the end point\n",
    "print(y)\n",
    "print(type(y))"
   ]
  },
  {
   "cell_type": "code",
   "execution_count": 79,
   "metadata": {},
   "outputs": [
    {
     "name": "stdout",
     "output_type": "stream",
     "text": [
      "(array([1.  , 1.25, 1.5 , 1.75, 2.  ]), 0.25)\n",
      "<class 'tuple'>\n"
     ]
    }
   ],
   "source": [
    "y = np.linspace(1,2,5, retstep=True) ##return step\n",
    "print(y)\n",
    "print(type(y))\n",
    "### showing tuple, write to the documentation"
   ]
  },
  {
   "cell_type": "markdown",
   "metadata": {},
   "source": [
    "# DOUBT"
   ]
  },
  {
   "cell_type": "code",
   "execution_count": 73,
   "metadata": {},
   "outputs": [],
   "source": [
    "## logs - > "
   ]
  },
  {
   "cell_type": "code",
   "execution_count": 76,
   "metadata": {},
   "outputs": [
    {
     "name": "stdout",
     "output_type": "stream",
     "text": [
      "[  10.           16.68100537   27.82559402   46.41588834   77.42636827\n",
      "  129.1549665   215.443469    359.38136638  599.48425032 1000.        ]\n",
      "----------------------------\n",
      "[   2.            4.87605462   11.88795431   28.98315726   70.66172888\n",
      "  172.27522466  420.01170228 1024.        ]\n"
     ]
    }
   ],
   "source": [
    "### numpy.logspace(start, stop, num, endpoint, base, dtype)\n",
    "## AP GP\n",
    "\n",
    "## default base is 10\n",
    "a = np.logspace(1.0, 3.0, num=10) \n",
    "## Set base of log space to 2\n",
    "\n",
    "b = np.logspace(1,10, num=8, base=2)\n",
    "print(a)\n",
    "print(\"----------------------------\")\n",
    "print(b)"
   ]
  },
  {
   "cell_type": "code",
   "execution_count": 127,
   "metadata": {},
   "outputs": [],
   "source": [
    "import math\n",
    "## for finding logs\n",
    "## read about logs and properties"
   ]
  },
  {
   "cell_type": "code",
   "execution_count": null,
   "metadata": {},
   "outputs": [],
   "source": []
  }
 ],
 "metadata": {
  "kernelspec": {
   "display_name": "Python 3",
   "language": "python",
   "name": "python3"
  },
  "language_info": {
   "codemirror_mode": {
    "name": "ipython",
    "version": 3
   },
   "file_extension": ".py",
   "mimetype": "text/x-python",
   "name": "python",
   "nbconvert_exporter": "python",
   "pygments_lexer": "ipython3",
   "version": "3.6.5"
  }
 },
 "nbformat": 4,
 "nbformat_minor": 2
}

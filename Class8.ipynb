{
 "cells": [
  {
   "cell_type": "markdown",
   "metadata": {},
   "source": [
    "### Copy, View and Deep Copy"
   ]
  },
  {
   "cell_type": "code",
   "execution_count": 2,
   "metadata": {},
   "outputs": [],
   "source": [
    "## View - Same object but reference changes"
   ]
  },
  {
   "cell_type": "code",
   "execution_count": 8,
   "metadata": {},
   "outputs": [
    {
     "name": "stdout",
     "output_type": "stream",
     "text": [
      "[0 1 2 3]\n",
      "------\n",
      "[0 1 2 3]\n",
      "[[0 1]\n",
      " [2 3]]\n",
      "-------\n",
      "[0 1 2 3]\n",
      "--------\n",
      "False\n"
     ]
    }
   ],
   "source": [
    "import numpy as np\n",
    "a = np.arange(4)\n",
    "b = a.view()\n",
    "print(a)\n",
    "print(\"------\")\n",
    "print(b)\n",
    "b.shape = 2,2  ## changing the shape of b doesn't affect the shape of a \n",
    "print(b)\n",
    "print(\"-------\")\n",
    "print(a)\n",
    "print(\"--------\")\n",
    "print(b is a)  ## id is different"
   ]
  },
  {
   "cell_type": "code",
   "execution_count": 10,
   "metadata": {},
   "outputs": [],
   "source": [
    "### Deep copy - copies the object, array except the location\n",
    "# Used when list of lists, complex data structures\n",
    "## View does not work with compound data types\n",
    "### View is used to copy the data without affecting it\n",
    "### Difference between view and copy"
   ]
  },
  {
   "cell_type": "markdown",
   "metadata": {},
   "source": [
    "### Broadcasting -- \n",
    "Arrays have 2 conditions: <br>\n",
    "1. Either compatible arrays\n",
    "2. Broadcasting\n"
   ]
  },
  {
   "cell_type": "code",
   "execution_count": 4,
   "metadata": {},
   "outputs": [
    {
     "name": "stdout",
     "output_type": "stream",
     "text": [
      "[5. 6. 7.]\n"
     ]
    }
   ],
   "source": [
    "import numpy as np\n",
    "p = np.array([1,2,3])\n",
    "q = [4.0]\n",
    "print(p+q)"
   ]
  },
  {
   "cell_type": "code",
   "execution_count": 7,
   "metadata": {},
   "outputs": [
    {
     "name": "stdout",
     "output_type": "stream",
     "text": [
      "[[ 1  2  3]\n",
      " [11 12 13]\n",
      " [21 22 23]\n",
      " [31 32 33]]\n"
     ]
    }
   ],
   "source": [
    "a = np.array([[0,0,0],[10,10,10],[20,20,20],[30,30,30]])\n",
    "b = np.array([1,2,3])\n",
    "print(a+b)"
   ]
  },
  {
   "cell_type": "markdown",
   "metadata": {},
   "source": [
    "### Linear Algebra"
   ]
  },
  {
   "cell_type": "code",
   "execution_count": 8,
   "metadata": {},
   "outputs": [],
   "source": [
    "import numpy.matlib\n",
    "import numpy as np"
   ]
  },
  {
   "cell_type": "code",
   "execution_count": 9,
   "metadata": {},
   "outputs": [],
   "source": [
    "## dot product\n",
    "## vector product\n",
    "## inner product"
   ]
  },
  {
   "cell_type": "code",
   "execution_count": 10,
   "metadata": {},
   "outputs": [],
   "source": [
    "## determinant\n",
    "## inverse of a matrix \n",
    "## solve linear equations"
   ]
  },
  {
   "cell_type": "code",
   "execution_count": 18,
   "metadata": {},
   "outputs": [
    {
     "name": "stdout",
     "output_type": "stream",
     "text": [
      "[[10 20]\n",
      " [30 40]\n",
      " [50 50]]\n",
      "[[5 6 3]\n",
      " [7 8 5]]\n",
      "[[190 220 130]\n",
      " [430 500 290]\n",
      " [600 700 400]]\n",
      "-----------\n",
      "1190\n"
     ]
    }
   ],
   "source": [
    "a = np.array([[10,20],[30,40],[50,50]])\n",
    "b = np.array([[5,6,3],[7,8,5]])  ## matrices should be compatible for multiplication .i.e 2by3 and 3by2\n",
    "print(a)\n",
    "print(b)\n",
    "print(np.dot(a,b))\n",
    "print(\"-----------\")\n",
    "print(np.vdot(a,b))"
   ]
  },
  {
   "cell_type": "code",
   "execution_count": 21,
   "metadata": {},
   "outputs": [
    {
     "name": "stdout",
     "output_type": "stream",
     "text": [
      "[3. 2.]\n"
     ]
    },
    {
     "data": {
      "text/plain": [
       "True"
      ]
     },
     "execution_count": 21,
     "metadata": {},
     "output_type": "execute_result"
    }
   ],
   "source": [
    "### solve system of equations 4*x0 + 3*x1 = 18  and x0 + 3 * x1 = 0:\n",
    "a = np.array([[4,3],[1,3]])\n",
    "b = np.array([18,9])\n",
    "x = np.linalg.solve(a,b)  ## linalg\n",
    "print(x)\n",
    "## check that the solution is correct:\n",
    "np.allclose(np.dot(a, x),b)  ## np.allclose- for precision, if the value comes non-terminating, hence to overcome that issue"
   ]
  },
  {
   "cell_type": "code",
   "execution_count": 23,
   "metadata": {},
   "outputs": [
    {
     "name": "stdout",
     "output_type": "stream",
     "text": [
      "[1.38461538 3.34615385 2.42307692]\n"
     ]
    },
    {
     "data": {
      "text/plain": [
       "True"
      ]
     },
     "execution_count": 23,
     "metadata": {},
     "output_type": "execute_result"
    }
   ],
   "source": [
    "# Solve the system of equtions 4 * x0 + 3x1 + x2 = 25, x0 + 3*x1 - x2 = 2, 2x0-x1=23\n",
    "a = np.array([[4,3,1],[1,3,-1],[2,-1,-1]])  ### we have to enter the values manually,any function that does it\n",
    "b = np.array([18,9,-3])\n",
    "x = np.linalg.solve(a,b)\n",
    "print(x)\n",
    "np.allclose(np.dot(a,x),b)"
   ]
  },
  {
   "cell_type": "markdown",
   "metadata": {},
   "source": [
    "## Matrix Library"
   ]
  },
  {
   "cell_type": "code",
   "execution_count": 28,
   "metadata": {},
   "outputs": [],
   "source": [
    "# to generate matrices quickly\n",
    "# np.empty_like(a) : Return an empty  array with shape and type of input\n",
    "d_like: return an array of oneswith shape and type of input\n",
    "# zeros_like: Retuurn an array of zeroes with shape and type of input\n",
    "# full_like: \n",
    "# np.empty([2,2])\n",
    "# ones:\n",
    "# np.zeroes((2,),dtype=[('x','i4'),('y','i4')])\n",
    "# np.zeros:\n",
    "# np.full((2,2),np.inf): return a new array of givem shape filled with infinite"
   ]
  },
  {
   "cell_type": "code",
   "execution_count": 26,
   "metadata": {},
   "outputs": [
    {
     "name": "stdout",
     "output_type": "stream",
     "text": [
      "[[          0  1077018624]\n",
      " [          0  1075970048]\n",
      " [          0 -1073217536]]\n"
     ]
    }
   ],
   "source": [
    "a = np.array([[1,2],[3,4],[5,6]])\n",
    "print(np.empty_like(a))"
   ]
  },
  {
   "cell_type": "code",
   "execution_count": null,
   "metadata": {},
   "outputs": [],
   "source": []
  }
 ],
 "metadata": {
  "kernelspec": {
   "display_name": "Python 3",
   "language": "python",
   "name": "python3"
  },
  "language_info": {
   "codemirror_mode": {
    "name": "ipython",
    "version": 3
   },
   "file_extension": ".py",
   "mimetype": "text/x-python",
   "name": "python",
   "nbconvert_exporter": "python",
   "pygments_lexer": "ipython3",
   "version": "3.6.5"
  }
 },
 "nbformat": 4,
 "nbformat_minor": 2
}
